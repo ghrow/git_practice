{
  "nbformat": 4,
  "nbformat_minor": 0,
  "metadata": {
    "colab": {
      "provenance": [],
      "authorship_tag": "ABX9TyN9D4mDJ0gTKbvjlSi1h80T",
      "include_colab_link": true
    },
    "kernelspec": {
      "name": "python3",
      "display_name": "Python 3"
    },
    "language_info": {
      "name": "python"
    }
  },
  "cells": [
    {
      "cell_type": "markdown",
      "metadata": {
        "id": "view-in-github",
        "colab_type": "text"
      },
      "source": [
        "<a href=\"https://colab.research.google.com/github/ghrow/git_practice/blob/master/JungCar.ipynb\" target=\"_parent\"><img src=\"https://colab.research.google.com/assets/colab-badge.svg\" alt=\"Open In Colab\"/></a>"
      ]
    },
    {
      "cell_type": "code",
      "execution_count": null,
      "metadata": {
        "id": "i8OiI0Qvb8PT"
      },
      "outputs": [],
      "source": [
        "import numpy as np"
      ]
    },
    {
      "cell_type": "code",
      "source": [
        "from collections import OrderedDict"
      ],
      "metadata": {
        "id": "g45Q2ucAOwU_"
      },
      "execution_count": null,
      "outputs": []
    },
    {
      "cell_type": "code",
      "source": [
        "class Relu:\n",
        "  def __init__(self):\n",
        "    self.mask = None\n",
        "\n",
        "    def forward(self, x):\n",
        "      self.mask = (x <= 0)\n",
        "      out = x.copy()\n",
        "      out[self.mask] = 0\n",
        "\n",
        "      return out\n",
        "    \n",
        "    def backward(self, dout):\n",
        "      dout[self.mask] = 0\n",
        "      dx = dout\n",
        "\n",
        "      return dx"
      ],
      "metadata": {
        "id": "zjy7JVOdJJ8C"
      },
      "execution_count": null,
      "outputs": []
    },
    {
      "cell_type": "code",
      "source": [
        "class Affine:\n",
        "    def __init__(self, W, b):\n",
        "      self.W = W\n",
        "      self.b = b\n",
        "      self.x = None\n",
        "      self.dW = None\n",
        "      self.db = None\n",
        "    \n",
        "    def forward(self, x):\n",
        "      self.x = x\n",
        "      out = np.dot(x, self.W) + self\n",
        "\n",
        "      return out\n",
        "    \n",
        "    def backward(self, dout):\n",
        "      dx = np.dot(dout, self.W.T)\n",
        "      self.dW = np.dot(self.x.T, dout)\n",
        "      self.db = np.sum(dout, axis=0)\n",
        "\n",
        "      return dx"
      ],
      "metadata": {
        "id": "a6-xwfzoJqM1"
      },
      "execution_count": null,
      "outputs": []
    },
    {
      "cell_type": "code",
      "source": [
        "def softmax(a):\n",
        " exp_a = np.exp(a)\n",
        " sum_exp_a = np.sum(exp_a)\n",
        " y = exp_a / sum_exp_a\n",
        "  \n",
        " return y"
      ],
      "metadata": {
        "id": "4pJf1nxvHvaN"
      },
      "execution_count": null,
      "outputs": []
    },
    {
      "cell_type": "code",
      "source": [
        "def cross_entropy_error(y, t):\n",
        "  if y.ndim == 1:\n",
        "    t = t.reshape(1, t.size)\n",
        "    y = y.reshape(1, y.size)\n",
        "\n",
        "  batch_size = y.shape[0]\n",
        "\n",
        "\n",
        "  return -np.sum(np.log(y[np.arange(batch_size), t] + 1e-7)) / batch_size"
      ],
      "metadata": {
        "id": "2d7IKkbWMLfT"
      },
      "execution_count": null,
      "outputs": []
    },
    {
      "cell_type": "code",
      "source": [
        "class SoftMaxWithLoss:\n",
        "  def __init__(self):\n",
        "    self.loss = None\n",
        "    self.y = None\n",
        "    self.t = None\n",
        "\n",
        "  def forward(self, x, t):\n",
        "    self.t = t\n",
        "    self.y = softmax(x)\n",
        "    self.loss = cross_entropy_error(self.y, self.t)\n",
        "    return self.loss\n",
        "\n",
        "  def backward(self, dout=1):\n",
        "    batch_size = self.t.shape[0]\n",
        "    dx = (self.y - self.t) / batch_size\n",
        "\n",
        "    return dx"
      ],
      "metadata": {
        "id": "qRVH-jSdKgJa"
      },
      "execution_count": null,
      "outputs": []
    },
    {
      "cell_type": "markdown",
      "source": [
        "im2col 함수(입력데이터 2차원 배열로 전개)"
      ],
      "metadata": {
        "id": "tEKB2bA-c5uN"
      }
    },
    {
      "cell_type": "code",
      "source": [
        "def im2col (X, filter_h, filter_w, stride=1, pad=0):\n",
        "  n, c, h, w = X.shape # input data 모양\n",
        "\n",
        "  out_h = (h + 2 * pad - filter_h) // stride + 1\n",
        "  out_w = ( w + 2 * pad - filter_w) // stride + 1\n",
        " \n",
        " # add padding to height and width\n",
        "  in_X = np.pad(X, [ (0,0),(0,0),(pad,pad),(pad,pad)], 'constant')\n",
        "  out = np.zeros((n,c, filter_h, filter_w, out_h, out_w))\n",
        "\n",
        "  for h in range(filter_h):\n",
        "    h_end = h + stride * out_h\n",
        "    for w in range(filter_w):\n",
        "      w_end = w + stride * out_w\n",
        "      out[:, :, h, w, :, :] = in_X[:, :, h:h_end:stride, w:w_end:stride]\n",
        "\n",
        "    out = out.transpose(0,4,5,1,2,3).reshape(n * out_h * out_w, -1)\n",
        "    return out"
      ],
      "metadata": {
        "id": "_MLKA5U-o11K"
      },
      "execution_count": null,
      "outputs": []
    },
    {
      "cell_type": "markdown",
      "source": [
        "convolution layer"
      ],
      "metadata": {
        "id": "Zk-WCBNPc9mi"
      }
    },
    {
      "cell_type": "code",
      "source": [
        "class Convolution:\n",
        "  def __init__(self, W, b, stride=1, pad=0):\n",
        "    self.W = W\n",
        "    self.b = b\n",
        "    self.stride = stride\n",
        "    self.pad = pad\n",
        "\n",
        "  def forward(self, x):\n",
        "    FN, C ,FH, FW = self.W.shape\n",
        "    N, C, H, W = x.shape\n",
        "    out_h = int(1 + (H + 2*self.pad - FH) / self.stride)\n",
        "    out_w = int(1 + (W + 2*self.pad - FW) / self.stride)\n",
        "\n",
        "    col = im2col(x, FH, FW , self.stride, self.pad)\n",
        "    col_W = self.W.reshape(FN, -1).T\n",
        "    out = np.dot(col, col_W) + self.b\n",
        "\n",
        "    out = out.reshape(N, out_h, out_w, -1).transpose(0, 3, 1, 2)\n",
        "\n",
        "    return out"
      ],
      "metadata": {
        "id": "1NlV2AcS5Dz_"
      },
      "execution_count": null,
      "outputs": []
    },
    {
      "cell_type": "markdown",
      "source": [
        "pooling layer"
      ],
      "metadata": {
        "id": "jxADOZicdRT-"
      }
    },
    {
      "cell_type": "code",
      "source": [
        "class Pooling:\n",
        "    def __init__(self, pool_h, pool_w, stride=1, pad=0):\n",
        "      self.pool_h = pool_h\n",
        "      self.pool_w = pool_w\n",
        "      self.stride = stride\n",
        "      self.pad = pad\n",
        "\n",
        "    def forward(self, x):\n",
        "      N, C, H, W = x.shape\n",
        "      out_h = int( 1 + (H - self.pool_h) / self.stride)\n",
        "      out_w = int( 1 + (W - self.pool_w) / self.stride)\n",
        "\n",
        "      # 데이터 전개\n",
        "\n",
        "      col = im2col(x, self.pool_h, self.pool_w, self.stride, self.pad)\n",
        "      col = col.reshape( -1, self.pool_h * self.pool_w)\n",
        "\n",
        "      out = np.max(col, axis=1) # 최대값\n",
        "\n",
        "      out = out.reshape(N, out_h, out_w, C).transpose(0, 3, 1, 2)\n",
        "\n",
        "      return out"
      ],
      "metadata": {
        "id": "snsQtYLOdQoT"
      },
      "execution_count": null,
      "outputs": []
    },
    {
      "cell_type": "code",
      "source": [
        "class CNN:\n",
        "  def __init__(self, input_dim=(1, 28, 28), conv_param={'filter_num':30, 'filter_size':5, 'pad':0, 'stride':1},\n",
        "               hidden_size=100, output_size=10, weight_init_std=0.01):\n",
        "        filter_num = conv_param['filter_num']\n",
        "        filter_size = conv_param['filter_size']\n",
        "        filter_pad = conv_param['pad']\n",
        "        filter_stride = conv_param['stride']\n",
        "        input_size = input_dim[1]\n",
        "        conv_output_size = (input_size - filter_size + 2*filter_pad) /  filter_stride + 1\n",
        "        pool_output_size = int(filter_num * (conv_output_size/2) * (conv_output_size/2))\n",
        "\n",
        "        #가중치 매개변수 초기화\n",
        "        self.params = {}\n",
        "        self.params['W1'] = weight_init_std *  np.random.randn(filter_num, input_dim[0], filter_size, filter_size)\n",
        "        self.params['b1'] = np.zeros(filter_num)\n",
        "        self.params['W2'] = weight_init_std *  np.random.randn(pool_output_size, hidden_size)\n",
        "        self.params['b2'] = np.zeros(hidden_size)\n",
        "        self.params['W3'] = weight_init_std *  np.random.randn(hidden_size, output_size)\n",
        "        self.params['b3'] = np.zeros(output_size)\n",
        "\n",
        "        #계층 생성\n",
        "\n",
        "        self.layers = OrderedDict()\n",
        "        self.layers['Conv1'] = Convolution(self.params['W1'], self.params['b1'], conv_param['stride'], conv_param['pad'] )\n",
        "        self.layers['Relu1'] = Relu()\n",
        "        self.layers['Pool1'] = Pooling(pool_h=2, pool_w=2, stride=2)\n",
        "        self.layers['Affine1'] = Affine(self.params['W2'], self.params['b2'])\n",
        "        self.layers['Relu2'] = Relu()\n",
        "        self.layers['Affine2'] = Affine(self.params['W3'], self.params['b3'])\n",
        "        self.last_layer = SoftMaxWithLoss()\n",
        "\n",
        "  def predict(self, x):\n",
        "    for layer in self.layers.values():\n",
        "        x = layer.forward(x)\n",
        "        return x\n",
        "\n",
        "  def loss(self, x, t):\n",
        "      y = self.predict(x)\n",
        "      return self.Last_layer.forward(y, t)\n",
        "\n",
        "\n",
        "  def gradient(self, x, t):\n",
        "\n",
        "    self.loss(x, t)\n",
        "\n",
        "    dout = 1\n",
        "    dout = self.last_layer.backward(dout)\n",
        "\n",
        "    layers = list(self.layers.values())\n",
        "    layers.reverse()\n",
        "    for layer in layers:\n",
        "      dout = layer.backward(dout)\n",
        "\n",
        "    grads = {}\n",
        "    grads[\"W1\"] = self.layers['Conv1'].dW\n",
        "    grads[\"b1\"] = self.layers['Conv1'].db\n",
        "    grads[\"W2\"] = self.layers['Affine1'].dW\n",
        "    grads[\"b2\"] = self.layers['Affine1'].db\n",
        "    grads[\"W3\"] = self.layers['Affine2'].dW\n",
        "    grads[\"b3\"] = self.layers['Affine2'].db\n",
        "\n",
        "    return grads"
      ],
      "metadata": {
        "id": "m9O_74-RczJW"
      },
      "execution_count": null,
      "outputs": []
    }
  ]
}